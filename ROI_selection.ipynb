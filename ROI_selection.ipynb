{
 "cells": [
  {
   "cell_type": "markdown",
   "metadata": {},
   "source": [
    "# Marking the Region of in for forms\n"
   ]
  },
  {
   "cell_type": "code",
   "execution_count": 5,
   "metadata": {},
   "outputs": [
    {
     "name": "stdout",
     "output_type": "stream",
     "text": [
      "30 , 241\n",
      "458 , 285\n",
      "29 , 348\n",
      "455 , 393\n",
      "31 , 454\n",
      "248 , 496\n",
      "37 , 564\n",
      "52 , 582\n",
      "142 , 565\n",
      "158 , 582\n",
      "37 , 594\n",
      "53 , 608\n",
      "141 , 594\n",
      "157 , 611\n",
      "37 , 624\n",
      "54 , 640\n"
     ]
    }
   ],
   "source": [
    "# importing the module\n",
    "import cv2\n",
    "  \n",
    "# function to display the coordinates of\n",
    "# of the points clicked on the image\n",
    "def click_event(event, x, y, flags, params):\n",
    " \n",
    "    # checking for left mouse clicks\n",
    "    if event == cv2.EVENT_LBUTTONDOWN:\n",
    " \n",
    "        # displaying the coordinates\n",
    "        # on the Shell\n",
    "       \n",
    "        print(x,\",\",y)\n",
    " \n",
    "        # displaying the coordinates\n",
    "        # on the image window\n",
    "        font=cv2.FONT_HERSHEY_COMPLEX_SMALL\n",
    "        #font = cv2.FONT_HERSHEY_SIMPLEX\n",
    "        cv2.putText(img, str(x) + ',' +\n",
    "                    str(y), (x,y),font,\n",
    "                    1, (255, 0, 0), 2)\n",
    "        cv2.imshow('image', img)\n",
    " \n",
    "    # checking for right mouse clicks    \n",
    "    if event==cv2.EVENT_RBUTTONDOWN:\n",
    " \n",
    "        # displaying the coordinates\n",
    "        # on the Shell\n",
    "       \n",
    "        print(x,\",\",y)\n",
    " \n",
    "        # displaying the coordinates\n",
    "        # on the image window\n",
    "        font = cv2.FONT_HERSHEY_SIMPLEX\n",
    "        b = img[y, x, 0]\n",
    "        g = img[y, x, 1]\n",
    "        r = img[y, x, 2]\n",
    "        cv2.putText(img, str(b) + ',' +\n",
    "                    str(g) + ',' + str(r),\n",
    "                    (x,y), font, 1,\n",
    "                    (255, 255, 0), 2)\n",
    "        cv2.imshow('image', img)\n",
    " \n",
    "#driver function\n",
    "if __name__==\"__main__\":\n",
    " \n",
    "    # reading the image\n",
    "    img = cv2.imread('C:\\\\Users\\\\Dinesh ram\\\\OneDrive\\\\Desktop\\\\test_images\\\\original.PNG', 1)\n",
    "    h,w,c=img.shape\n",
    "    img=cv2.resize(img,(w,h))\n",
    "    # displaying the image\n",
    "    cv2.imshow('image', img)\n",
    "    \n",
    " \n",
    "    # setting mouse handler for the image\n",
    "    # and calling the click_event() function\n",
    "    cv2.setMouseCallback('image', click_event)\n",
    "    \n",
    " \n",
    "    # wait for a key to be pressed to exit\n",
    "    cv2.waitKey(0)\n",
    " \n",
    "    # close the window\n",
    "    cv2.destroyAllWindows()"
   ]
  },
  {
   "cell_type": "code",
   "execution_count": 2,
   "metadata": {},
   "outputs": [],
   "source": [
    "roi=[[(29 , 243),(458 , 287),\"text\",\"Name\"],\n",
    "[(29 , 351),(460 , 391),\"text\",\"Email address\"],\n",
    "[(25 , 419),(233 , 458),\"text\",\"Phone_number\"],\n",
    "[(30 , 457),(249 , 494),\"text\",\"Executive\"],\n",
    "[(136 , 519),(151 , 533),\"text\",\"Sales\"],\n",
    "[(32 , 548),(47 , 562),\"text\",\"Marketing\"],\n",
    "[(135 , 547),(151 , 563),\"text\",\"Technology\"],\n",
    "[(31 , 577),(48 , 591),\"text\",\"ALL\"]]"
   ]
  },
  {
   "cell_type": "code",
   "execution_count": null,
   "metadata": {},
   "outputs": [],
   "source": []
  }
 ],
 "metadata": {
  "kernelspec": {
   "display_name": "Python 3",
   "language": "python",
   "name": "python3"
  },
  "language_info": {
   "codemirror_mode": {
    "name": "ipython",
    "version": 3
   },
   "file_extension": ".py",
   "mimetype": "text/x-python",
   "name": "python",
   "nbconvert_exporter": "python",
   "pygments_lexer": "ipython3",
   "version": "3.8.5"
  }
 },
 "nbformat": 4,
 "nbformat_minor": 4
}
